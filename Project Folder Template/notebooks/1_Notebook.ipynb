{
 "cells": [
  {
   "cell_type": "code",
   "execution_count": 13,
   "metadata": {},
   "outputs": [],
   "source": [
    "import pandas as pd \n",
    "import seaborn as sns \n",
    "import pyodbc\n",
    "import numpy as np \n",
    "import matplotlib.pyplot as plt \n",
    "import sys \n",
    "sys.path.insert(1,'../py-scripts')\n",
    "import matplotlib.ticker as mtick \n",
    "\n",
    "#Style Settings\n",
    "sns.set(rc = {'axes.facecolor':'white'\n",
    "              ,'figure.figsize':(12,8)\n",
    "              ,'figure.facecolor':'white'\n",
    "              ,'axes.edgecolor': '#C4C4BF'\n",
    "              ,'lines.linewidth':3\n",
    "              ,'axes.titlesize':26\n",
    "              ,'axes.labelsize':16\n",
    "              ,'axes.labelcolor':'black'\n",
    "              ,'grid.color': '#EEEEED'\n",
    "              ,'text.color':'black'\n",
    "              ,'xtick.color':'black'\n",
    "              ,'ytick.color':'black'\n",
    "              ,'ytick.labelsize':14\n",
    "              ,'xtick.labelsize':14\n",
    "              ,'legend.fontsize':12\n",
    "              ,'axes.linewidth':2},\n",
    "            font = 'Segoe UI')"
   ]
  },
  {
   "cell_type": "code",
   "execution_count": null,
   "metadata": {},
   "outputs": [],
   "source": []
  }
 ],
 "metadata": {
  "kernelspec": {
   "display_name": "base",
   "language": "python",
   "name": "python3"
  },
  "language_info": {
   "codemirror_mode": {
    "name": "ipython",
    "version": 3
   },
   "file_extension": ".py",
   "mimetype": "text/x-python",
   "name": "python",
   "nbconvert_exporter": "python",
   "pygments_lexer": "ipython3",
   "version": "3.9.12"
  }
 },
 "nbformat": 4,
 "nbformat_minor": 2
}
